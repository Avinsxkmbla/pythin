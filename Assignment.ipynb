{
 "cells": [
  {
   "cell_type": "code",
   "execution_count": null,
   "id": "daf6e95f-ea03-4c4e-ac35-1a3b52e4cf9c",
   "metadata": {},
   "outputs": [],
   "source": []
  },
  {
   "cell_type": "code",
   "execution_count": null,
   "id": "93a31434-944e-4f8d-b610-f672db92d9ac",
   "metadata": {},
   "outputs": [],
   "source": []
  },
  {
   "cell_type": "code",
   "execution_count": null,
   "id": "ce5ae79d-049d-4ce3-98ef-3c3a55e1782c",
   "metadata": {},
   "outputs": [],
   "source": []
  },
  {
   "cell_type": "code",
   "execution_count": null,
   "id": "e53a969c-378b-4573-b022-1555d7e8a77d",
   "metadata": {},
   "outputs": [],
   "source": []
  },
  {
   "cell_type": "code",
   "execution_count": null,
   "id": "36d969c0-3b57-470a-9eda-d5887b18ff28",
   "metadata": {},
   "outputs": [],
   "source": []
  },
  {
   "cell_type": "code",
   "execution_count": null,
   "id": "7717a51e-f6f3-4821-a2cf-1672b9b683a9",
   "metadata": {},
   "outputs": [],
   "source": []
  },
  {
   "cell_type": "code",
   "execution_count": null,
   "id": "207de1c3-7185-443d-b583-ffd2d17b72f0",
   "metadata": {},
   "outputs": [],
   "source": []
  },
  {
   "cell_type": "code",
   "execution_count": null,
   "id": "08e93215-4ed8-4490-9078-8bc631a5fcec",
   "metadata": {},
   "outputs": [],
   "source": []
  },
  {
   "cell_type": "code",
   "execution_count": null,
   "id": "5d24c7a3-89e2-4241-80f2-61538b5b4ed7",
   "metadata": {},
   "outputs": [],
   "source": []
  },
  {
   "cell_type": "code",
   "execution_count": null,
   "id": "926fd4fd-d853-4ec1-ac01-62fa16ab5e99",
   "metadata": {},
   "outputs": [],
   "source": []
  },
  {
   "cell_type": "code",
   "execution_count": null,
   "id": "e6532397-2a0f-4be3-a7e9-c231b61d778f",
   "metadata": {},
   "outputs": [],
   "source": []
  },
  {
   "cell_type": "code",
   "execution_count": 44,
   "id": "8e365459-fc02-426c-95b9-0d078326726a",
   "metadata": {},
   "outputs": [],
   "source": [
    "# Make a dictionary with {} and : to signify a key and a vali\n",
    "mba_dict = {'keyl':'valuel', 'key2':'value2', 'key3':'value3'}"
   ]
  },
  {
   "cell_type": "code",
   "execution_count": 46,
   "id": "5a98ce26-a565-428f-bb92-f77facb5552a",
   "metadata": {},
   "outputs": [
    {
     "data": {
      "text/plain": [
       "'value3'"
      ]
     },
     "execution_count": 46,
     "metadata": {},
     "output_type": "execute_result"
    }
   ],
   "source": [
    "# Call values by their key\n",
    "mba_dict ['key3']\n"
   ]
  },
  {
   "cell_type": "code",
   "execution_count": 80,
   "id": "fee695f9-aefe-4cd1-b8c1-05455f91cc1b",
   "metadata": {},
   "outputs": [],
   "source": [
    "\n",
    "m_dict = {'key1': 561234 , 'key2': [812,823,833], 'key3':[ 'item10', 'item11', 'item12']}\n"
   ]
  },
  {
   "cell_type": "code",
   "execution_count": 50,
   "id": "71fc554a-ecf9-4822-91d2-f47b28e2683f",
   "metadata": {},
   "outputs": [
    {
     "data": {
      "text/plain": [
       "['item10', 'item11', 'item12']"
      ]
     },
     "execution_count": 50,
     "metadata": {},
     "output_type": "execute_result"
    }
   ],
   "source": [
    "# Let's call items from the dictionary\n",
    "m_dict['key3']"
   ]
  },
  {
   "cell_type": "code",
   "execution_count": 56,
   "id": "f78f60ff-cd19-4ae5-a06e-cce6a1db7a4a",
   "metadata": {},
   "outputs": [
    {
     "data": {
      "text/plain": [
       "'item10'"
      ]
     },
     "execution_count": 56,
     "metadata": {},
     "output_type": "execute_result"
    }
   ],
   "source": [
    "# Can call an index on that value\n",
    "m_dict['key3' ][0]"
   ]
  },
  {
   "cell_type": "code",
   "execution_count": 58,
   "id": "4c30b98a-d333-4efc-8264-82ecfa784776",
   "metadata": {},
   "outputs": [
    {
     "data": {
      "text/plain": [
       "'ITEM10'"
      ]
     },
     "execution_count": 58,
     "metadata": {},
     "output_type": "execute_result"
    }
   ],
   "source": [
    "# Can then even call methods on that value\n",
    "m_dict['key3'][0].upper()\n"
   ]
  },
  {
   "cell_type": "code",
   "execution_count": 82,
   "id": "35a0b5dd-e44f-4935-aa67-cb82c8a3f842",
   "metadata": {},
   "outputs": [
    {
     "data": {
      "text/plain": [
       "561234"
      ]
     },
     "execution_count": 82,
     "metadata": {},
     "output_type": "execute_result"
    }
   ],
   "source": [
    "m_dict['key1']"
   ]
  },
  {
   "cell_type": "code",
   "execution_count": 86,
   "id": "58e18c03-306a-47e2-b8ac-1daac9296ae9",
   "metadata": {
    "scrolled": true
   },
   "outputs": [],
   "source": [
    "# Subtract 61234 from the value\n",
    "m_dict['key1'] = m_dict['key1'] - 61234"
   ]
  },
  {
   "cell_type": "code",
   "execution_count": 88,
   "id": "a0df1429-c755-448b-8856-bdd1879c3ed7",
   "metadata": {},
   "outputs": [
    {
     "data": {
      "text/plain": [
       "500000"
      ]
     },
     "execution_count": 88,
     "metadata": {},
     "output_type": "execute_result"
    }
   ],
   "source": [
    "#Check\n",
    "m_dict['key1' ]"
   ]
  },
  {
   "cell_type": "code",
   "execution_count": null,
   "id": "815bf9d1-d9b0-4e88-9dfd-064370ad033b",
   "metadata": {},
   "outputs": [],
   "source": []
  },
  {
   "cell_type": "code",
   "execution_count": 92,
   "id": "d0419472-d877-4a18-b14f-9922b0ba0e5f",
   "metadata": {},
   "outputs": [],
   "source": [
    "# Create a new dictionary\n",
    "dog_purchase = {}\n"
   ]
  },
  {
   "cell_type": "code",
   "execution_count": 96,
   "id": "815e1df9-8e95-44de-a9d3-0caae3f12694",
   "metadata": {},
   "outputs": [],
   "source": [
    "# Create a new key through assignment\n",
    "dog_purchase['animal'] = 'Two Dog'\n"
   ]
  },
  {
   "cell_type": "code",
   "execution_count": 100,
   "id": "3f9d1a64-e881-4329-a38a-afc2169ac127",
   "metadata": {},
   "outputs": [],
   "source": [
    "# Can do this with any object\n",
    "dog_purchase[ 'answer'] = 100000\n"
   ]
  },
  {
   "cell_type": "code",
   "execution_count": 104,
   "id": "8f49dfa9-b645-4ff6-a140-40256e34b0fc",
   "metadata": {},
   "outputs": [
    {
     "data": {
      "text/plain": [
       "{'animal': 'Two Dog', 'answer': 100000}"
      ]
     },
     "execution_count": 104,
     "metadata": {},
     "output_type": "execute_result"
    }
   ],
   "source": [
    "#Show\n",
    "dog_purchase\n"
   ]
  },
  {
   "cell_type": "code",
   "execution_count": null,
   "id": "6f32c558-a16e-4ba3-9017-e6eceab21cac",
   "metadata": {},
   "outputs": [],
   "source": []
  },
  {
   "cell_type": "code",
   "execution_count": 114,
   "id": "93961fba-344f-438b-b74a-98c84f6fb777",
   "metadata": {},
   "outputs": [],
   "source": [
    "# Dictionary nested inside a dictionary nested inside a dict\n",
    "dog_purchase = {'key1':{'nestkey':{'subnestkey':'value'}}}"
   ]
  },
  {
   "cell_type": "code",
   "execution_count": 116,
   "id": "277f8b46-a36a-4915-89b0-185a42c987be",
   "metadata": {},
   "outputs": [
    {
     "data": {
      "text/plain": [
       "'value'"
      ]
     },
     "execution_count": 116,
     "metadata": {},
     "output_type": "execute_result"
    }
   ],
   "source": [
    "# Keep calling the keys\n",
    "dog_purchase[ 'key1'][ 'nestkey']['subnestkey' ]"
   ]
  },
  {
   "cell_type": "code",
   "execution_count": null,
   "id": "5fcd71e5-45a5-4491-804c-5a8bf4e0cda2",
   "metadata": {},
   "outputs": [],
   "source": []
  },
  {
   "cell_type": "code",
   "execution_count": 52,
   "id": "70238a42-7f12-4a39-80e8-c220a7e5fe10",
   "metadata": {},
   "outputs": [
    {
     "data": {
      "text/plain": [
       "dict_keys(['key1', 'key2', 'key3'])"
      ]
     },
     "execution_count": 52,
     "metadata": {},
     "output_type": "execute_result"
    }
   ],
   "source": [
    "# Method to return a List of all keys\n",
    "d.keys()"
   ]
  },
  {
   "cell_type": "code",
   "execution_count": 54,
   "id": "db7bed9d-9b07-4f76-830b-c4958de91668",
   "metadata": {},
   "outputs": [
    {
     "data": {
      "text/plain": [
       "dict_values([81, 82, 83])"
      ]
     },
     "execution_count": 54,
     "metadata": {},
     "output_type": "execute_result"
    }
   ],
   "source": [
    "# Method to grab all values\n",
    "d.values()"
   ]
  },
  {
   "cell_type": "code",
   "execution_count": 29,
   "id": "e9a11d7a-7548-4f2e-a4b5-4350b9b553f9",
   "metadata": {
    "scrolled": true
   },
   "outputs": [
    {
     "data": {
      "text/plain": [
       "dict_items([('key1', 81), ('key2', 82), ('key3', 83)])"
      ]
     },
     "execution_count": 29,
     "metadata": {},
     "output_type": "execute_result"
    }
   ],
   "source": [
    "# Method to return tuples of all items (we'll Learn about ti\n",
    "d.items()"
   ]
  },
  {
   "cell_type": "code",
   "execution_count": null,
   "id": "117bb388-5343-4dbe-a688-a9f087a69fa6",
   "metadata": {},
   "outputs": [],
   "source": []
  }
 ],
 "metadata": {
  "kernelspec": {
   "display_name": "Python 3 (ipykernel)",
   "language": "python",
   "name": "python3"
  },
  "language_info": {
   "codemirror_mode": {
    "name": "ipython",
    "version": 3
   },
   "file_extension": ".py",
   "mimetype": "text/x-python",
   "name": "python",
   "nbconvert_exporter": "python",
   "pygments_lexer": "ipython3",
   "version": "3.12.4"
  }
 },
 "nbformat": 4,
 "nbformat_minor": 5
}
